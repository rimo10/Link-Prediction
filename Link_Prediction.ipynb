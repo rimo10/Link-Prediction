{
  "nbformat": 4,
  "nbformat_minor": 0,
  "metadata": {
    "colab": {
      "provenance": [],
      "gpuType": "T4"
    },
    "kernelspec": {
      "name": "python3",
      "display_name": "Python 3"
    },
    "language_info": {
      "name": "python"
    },
    "accelerator": "GPU"
  },
  "cells": [
    {
      "cell_type": "code",
      "execution_count": null,
      "metadata": {
        "id": "MPgiYF1DsWiz",
        "colab": {
          "base_uri": "https://localhost:8080/"
        },
        "outputId": "b1e80772-a1f2-494b-943a-7746143eca3c"
      },
      "outputs": [
        {
          "output_type": "stream",
          "name": "stdout",
          "text": [
            "Installing collected packages: torch_geometric\n",
            "Successfully installed torch_geometric-2.4.0\n",
            "Collecting ogb\n",
            "  Downloading ogb-1.3.6-py3-none-any.whl (78 kB)\n",
            "\u001b[2K     \u001b[90m━━━━━━━━━━━━━━━━━━━━━━━━━━━━━━━━━━━━━━━━\u001b[0m \u001b[32m78.8/78.8 kB\u001b[0m \u001b[31m2.0 MB/s\u001b[0m eta \u001b[36m0:00:00\u001b[0m\n",
            "\u001b[?25hRequirement already satisfied: torch>=1.6.0 in /usr/local/lib/python3.10/dist-packages (from ogb) (2.1.0+cu118)\n",
            "Requirement already satisfied: numpy>=1.16.0 in /usr/local/lib/python3.10/dist-packages (from ogb) (1.23.5)\n",
            "Requirement already satisfied: tqdm>=4.29.0 in /usr/local/lib/python3.10/dist-packages (from ogb) (4.66.1)\n",
            "Requirement already satisfied: scikit-learn>=0.20.0 in /usr/local/lib/python3.10/dist-packages (from ogb) (1.2.2)\n",
            "Requirement already satisfied: pandas>=0.24.0 in /usr/local/lib/python3.10/dist-packages (from ogb) (1.5.3)\n",
            "Requirement already satisfied: six>=1.12.0 in /usr/local/lib/python3.10/dist-packages (from ogb) (1.16.0)\n",
            "Requirement already satisfied: urllib3>=1.24.0 in /usr/local/lib/python3.10/dist-packages (from ogb) (2.0.7)\n",
            "Collecting outdated>=0.2.0 (from ogb)\n",
            "  Downloading outdated-0.2.2-py2.py3-none-any.whl (7.5 kB)\n",
            "Requirement already satisfied: setuptools>=44 in /usr/local/lib/python3.10/dist-packages (from outdated>=0.2.0->ogb) (67.7.2)\n",
            "Collecting littleutils (from outdated>=0.2.0->ogb)\n",
            "  Downloading littleutils-0.2.2.tar.gz (6.6 kB)\n",
            "  Preparing metadata (setup.py) ... \u001b[?25l\u001b[?25hdone\n",
            "Requirement already satisfied: requests in /usr/local/lib/python3.10/dist-packages (from outdated>=0.2.0->ogb) (2.31.0)\n",
            "Requirement already satisfied: python-dateutil>=2.8.1 in /usr/local/lib/python3.10/dist-packages (from pandas>=0.24.0->ogb) (2.8.2)\n",
            "Requirement already satisfied: pytz>=2020.1 in /usr/local/lib/python3.10/dist-packages (from pandas>=0.24.0->ogb) (2023.3.post1)\n",
            "Requirement already satisfied: scipy>=1.3.2 in /usr/local/lib/python3.10/dist-packages (from scikit-learn>=0.20.0->ogb) (1.11.3)\n",
            "Requirement already satisfied: joblib>=1.1.1 in /usr/local/lib/python3.10/dist-packages (from scikit-learn>=0.20.0->ogb) (1.3.2)\n",
            "Requirement already satisfied: threadpoolctl>=2.0.0 in /usr/local/lib/python3.10/dist-packages (from scikit-learn>=0.20.0->ogb) (3.2.0)\n",
            "Requirement already satisfied: filelock in /usr/local/lib/python3.10/dist-packages (from torch>=1.6.0->ogb) (3.12.4)\n",
            "Requirement already satisfied: typing-extensions in /usr/local/lib/python3.10/dist-packages (from torch>=1.6.0->ogb) (4.5.0)\n",
            "Requirement already satisfied: sympy in /usr/local/lib/python3.10/dist-packages (from torch>=1.6.0->ogb) (1.12)\n",
            "Requirement already satisfied: networkx in /usr/local/lib/python3.10/dist-packages (from torch>=1.6.0->ogb) (3.2)\n",
            "Requirement already satisfied: jinja2 in /usr/local/lib/python3.10/dist-packages (from torch>=1.6.0->ogb) (3.1.2)\n",
            "Requirement already satisfied: fsspec in /usr/local/lib/python3.10/dist-packages (from torch>=1.6.0->ogb) (2023.6.0)\n",
            "Requirement already satisfied: triton==2.1.0 in /usr/local/lib/python3.10/dist-packages (from torch>=1.6.0->ogb) (2.1.0)\n",
            "Requirement already satisfied: MarkupSafe>=2.0 in /usr/local/lib/python3.10/dist-packages (from jinja2->torch>=1.6.0->ogb) (2.1.3)\n",
            "Requirement already satisfied: charset-normalizer<4,>=2 in /usr/local/lib/python3.10/dist-packages (from requests->outdated>=0.2.0->ogb) (3.3.1)\n",
            "Requirement already satisfied: idna<4,>=2.5 in /usr/local/lib/python3.10/dist-packages (from requests->outdated>=0.2.0->ogb) (3.4)\n",
            "Requirement already satisfied: certifi>=2017.4.17 in /usr/local/lib/python3.10/dist-packages (from requests->outdated>=0.2.0->ogb) (2023.7.22)\n",
            "Requirement already satisfied: mpmath>=0.19 in /usr/local/lib/python3.10/dist-packages (from sympy->torch>=1.6.0->ogb) (1.3.0)\n",
            "Building wheels for collected packages: littleutils\n",
            "  Building wheel for littleutils (setup.py) ... \u001b[?25l\u001b[?25hdone\n",
            "  Created wheel for littleutils: filename=littleutils-0.2.2-py3-none-any.whl size=7028 sha256=0b052867394c7fd386a9182fa400f7fc43f68a53d1bc8b91c85f8efec81ed3d8\n",
            "  Stored in directory: /root/.cache/pip/wheels/3d/fe/b0/27a9892da57472e538c7452a721a9cf463cc03cf7379889266\n",
            "Successfully built littleutils\n",
            "Installing collected packages: littleutils, outdated, ogb\n",
            "Successfully installed littleutils-0.2.2 ogb-1.3.6 outdated-0.2.2\n"
          ]
        }
      ],
      "source": [
        "!pip install torch_geometric\n",
        "!pip install ogb"
      ]
    },
    {
      "cell_type": "code",
      "source": [
        "import torch\n",
        "import torch.nn as nn\n",
        "import torch.nn.functional as F\n",
        "import torch_geometric as pyg\n",
        "from torch_geometric.data import DataLoader\n",
        "from ogb.linkproppred import PygLinkPropPredDataset, Evaluator\n",
        "import numpy as np\n",
        "import networkx as nx\n",
        "from torch_geometric.utils.negative_sampling import negative_sampling\n",
        "import matplotlib.pyplot as plt"
      ],
      "metadata": {
        "id": "KgdB2v1usc8V"
      },
      "execution_count": null,
      "outputs": []
    },
    {
      "cell_type": "code",
      "source": [
        "dataset = PygLinkPropPredDataset(name=\"ogbl-ddi\",root='./dataset')\n",
        "dataset"
      ],
      "metadata": {
        "colab": {
          "base_uri": "https://localhost:8080/"
        },
        "id": "7chb-6HRtXeG",
        "outputId": "3235756c-7112-45d6-f2fa-d07ac8721d64"
      },
      "execution_count": null,
      "outputs": [
        {
          "output_type": "stream",
          "name": "stdout",
          "text": [
            "Downloading http://snap.stanford.edu/ogb/data/linkproppred/ddi.zip\n"
          ]
        },
        {
          "output_type": "stream",
          "name": "stderr",
          "text": [
            "Downloaded 0.04 GB: 100%|██████████| 46/46 [00:02<00:00, 16.27it/s]\n"
          ]
        },
        {
          "output_type": "stream",
          "name": "stdout",
          "text": [
            "Extracting ./dataset/ddi.zip\n"
          ]
        },
        {
          "output_type": "stream",
          "name": "stderr",
          "text": [
            "Processing...\n"
          ]
        },
        {
          "output_type": "stream",
          "name": "stdout",
          "text": [
            "Loading necessary files...\n",
            "This might take a while.\n",
            "Processing graphs...\n"
          ]
        },
        {
          "output_type": "stream",
          "name": "stderr",
          "text": [
            "100%|██████████| 1/1 [00:00<00:00, 21.96it/s]\n"
          ]
        },
        {
          "output_type": "stream",
          "name": "stdout",
          "text": [
            "Converting graphs into PyG objects...\n"
          ]
        },
        {
          "output_type": "stream",
          "name": "stderr",
          "text": [
            "100%|██████████| 1/1 [00:00<00:00, 456.50it/s]"
          ]
        },
        {
          "output_type": "stream",
          "name": "stdout",
          "text": [
            "Saving...\n"
          ]
        },
        {
          "output_type": "stream",
          "name": "stderr",
          "text": [
            "\n",
            "Done!\n"
          ]
        },
        {
          "output_type": "execute_result",
          "data": {
            "text/plain": [
              "PygLinkPropPredDataset()"
            ]
          },
          "metadata": {},
          "execution_count": 3
        }
      ]
    },
    {
      "cell_type": "code",
      "source": [
        "dataset.get_summary()"
      ],
      "metadata": {
        "colab": {
          "base_uri": "https://localhost:8080/"
        },
        "id": "hTBc02Uotkug",
        "outputId": "b9762153-ae12-4d77-81fe-dcc2534bff7c"
      },
      "execution_count": null,
      "outputs": [
        {
          "output_type": "execute_result",
          "data": {
            "text/plain": [
              "PygLinkPropPredDataset (#graphs=1):\n",
              "+------------+----------+---------------+\n",
              "|            |   #nodes |        #edges |\n",
              "|------------+----------+---------------|\n",
              "| mean       |     4267 |   2.13582e+06 |\n",
              "| std        |      nan | nan           |\n",
              "| min        |     4267 |   2.13582e+06 |\n",
              "| quantile25 |     4267 |   2.13582e+06 |\n",
              "| median     |     4267 |   2.13582e+06 |\n",
              "| quantile75 |     4267 |   2.13582e+06 |\n",
              "| max        |     4267 |   2.13582e+06 |\n",
              "+------------+----------+---------------+"
            ]
          },
          "metadata": {},
          "execution_count": 4
        }
      ]
    },
    {
      "cell_type": "code",
      "source": [
        "device = torch.device('cuda' if torch.cuda.is_available() else 'cpu')\n",
        "hidden_dim = 256\n",
        "num_layers = 2\n",
        "dropout = 0.2\n",
        "node_emb_dim = 256\n",
        "batch_size = 64*1024\n",
        "lr=0.005\n",
        "num_epochs = 300"
      ],
      "metadata": {
        "id": "E0yX0VUOiyTS"
      },
      "execution_count": null,
      "outputs": []
    },
    {
      "cell_type": "code",
      "source": [
        "# g = pyg.utils.to_networkx(dataset[0], to_undirected=True)\n",
        "# nx.draw(g)"
      ],
      "metadata": {
        "id": "lqHbm7NNtw_F"
      },
      "execution_count": null,
      "outputs": []
    },
    {
      "cell_type": "code",
      "source": [
        "class GNNStack(nn.Module):\n",
        "  def __init__(self,input_dim,hidden_dim,output_dim,num_layers,dropout,emb=False):\n",
        "    super().__init__()\n",
        "    conv_model = pyg.nn.SAGEConv\n",
        "    self.convs = nn.ModuleList()\n",
        "    self.convs.append(conv_model(input_dim,hidden_dim))\n",
        "    self.num_layers = num_layers\n",
        "    self.dropout = dropout\n",
        "    self.emb = emb\n",
        "\n",
        "    assert (self.num_layers >= 1)\n",
        "    for l in range(self.num_layers - 1):\n",
        "        self.convs.append(conv_model(hidden_dim, hidden_dim))\n",
        "\n",
        "    self.post_mp = nn.Sequential(\n",
        "        nn.Linear(hidden_dim,hidden_dim),\n",
        "        nn.Dropout(self.dropout),\n",
        "        nn.Linear(hidden_dim,output_dim))\n",
        "\n",
        "  def forward(self,x,edge_index):\n",
        "    for i in range(self.num_layers):\n",
        "      x = self.convs[i](x,edge_index)\n",
        "      x = F.relu(x)\n",
        "      x = F.dropout(x,p = self.dropout,training=self.training)\n",
        "    x = self.post_mp(x)\n",
        "    if self.emb:\n",
        "      return x\n",
        "    return F.softmax(x,dim=1)"
      ],
      "metadata": {
        "id": "Tch64FWmt6kA"
      },
      "execution_count": null,
      "outputs": []
    },
    {
      "cell_type": "code",
      "source": [
        "class LinkPredictor(nn.Module):\n",
        "  def __init__(self,input_dim,hidden_dim,output_dim,num_layers,dropout):\n",
        "    super().__init__()\n",
        "    self.lins = nn.ModuleList()\n",
        "    self.lins.append(nn.Linear(input_dim,hidden_dim))\n",
        "    for _ in range(num_layers-2):\n",
        "      self.lins.append(nn.Linear(hidden_dim,hidden_dim))\n",
        "    self.lins.append(nn.Linear(hidden_dim,output_dim))\n",
        "    self.dropout = dropout\n",
        "\n",
        "  def forward(self,x_i,x_j):\n",
        "    x = x_i * x_j\n",
        "    for lin in self.lins[:-1]:\n",
        "      x = lin(x)\n",
        "      x = F.relu(x)\n",
        "      x = F.dropout(x,p=self.dropout,training = self.training)\n",
        "    x = self.lins[-1](x)\n",
        "    return torch.sigmoid(x)\n"
      ],
      "metadata": {
        "id": "NFipQ-3McZIs"
      },
      "execution_count": null,
      "outputs": []
    },
    {
      "cell_type": "code",
      "source": [
        "def train(model, link_predictor, emb, edge_index, pos_train_edge, batch_size, optimizer):\n",
        "  \"\"\"\n",
        "  params:\n",
        "        model :           Used for updating graph node embedddings\n",
        "        link_predictor :  Predicting whether an edge exists between or not\n",
        "\n",
        "  \"\"\"\n",
        "  model.train()\n",
        "  link_predictor.train()\n",
        "  train_losses = []\n",
        "  for edge_id in DataLoader(range(pos_train_edge.shape[0]), batch_size, shuffle=True):\n",
        "    optimizer.zero_grad()\n",
        "\n",
        "    # Run message passing on the initial node embeddings to get updated node embeddings\n",
        "    node_emb = model(emb , edge_index) #(N , D)\n",
        "\n",
        "    # Predict class probabilities on the batch of positive edges using link_predictor\n",
        "    pos_edge = pos_train_edge[edge_id].T #(2 , Batch)\n",
        "    pos_pred = link_predictor(node_emb[pos_edge[0]].to(torch.float),node_emb[pos_edge[1]].to(torch.float))\n",
        "\n",
        "    neg_edge = negative_sampling(edge_index , num_nodes = emb.shape[0],num_neg_samples=edge_id.shape[0], method = \"sparse\")\n",
        "    neg_pred = link_predictor(node_emb[neg_edge[0]],node_emb[neg_edge[1]])\n",
        "\n",
        "    loss = -torch.log(pos_pred + 1e-15).mean() - torch.log(1-neg_pred + 1e-15).mean()\n",
        "    loss.backward()\n",
        "    optimizer.step()\n",
        "    train_losses.append(loss.item())\n",
        "\n",
        "  return sum(train_losses)/len(train_losses)"
      ],
      "metadata": {
        "id": "H-HvItsibOYD"
      },
      "execution_count": null,
      "outputs": []
    },
    {
      "cell_type": "markdown",
      "source": [
        "Hits@k is a metric used to evaluate the accuracy of a recommendation system or information retrieval system. It measures how many of the top k items recommended to a user are relevant to that user. The evaluation involves comparing the recommended items to a set of ground truth items that are known to be relevant to the user.\n",
        "\n",
        "Here's how Hits@k is typically evaluated:\n",
        "\n",
        "User Data Preparation: You need data about users and their interactions (such as clicks, purchases, or ratings) with items. From this data, you can create a test set for each user. The test set contains a set of items that the user has interacted with (the positive items) and a set of items that the user has not interacted with (the negative items).\n",
        "\n",
        "Recommendation Generation: Using your recommendation algorithm, generate a list of top k items for each user in your test set.\n",
        "\n",
        "Evaluation: For each user:\n",
        "\n",
        "Identify the k recommended items.\n",
        "Check if any of the recommended items are in the set of positive items (items the user has interacted with). If there is at least one positive item in the top k recommendations, Hits@k is 1 for that user; otherwise, it is 0.\n",
        "Aggregate the Results: Calculate Hits@k for all users and then average these values to get an overall Hits@k score for your recommendation system.``\n",
        "\n",
        "The Hits@k metric provides insights into the ability of your recommendation system to suggest relevant items within the top k positions. It is a simple and intuitive way to evaluate the performance of recommendation algorithms, especially in scenarios where only a limited number of recommendations can be shown to users."
      ],
      "metadata": {
        "id": "oUaeKwWdip6J"
      }
    },
    {
      "cell_type": "code",
      "source": [
        "def test(model, link_predictor, emb, edge_index, split_edge, batch_size, optimizer,evaluator):\n",
        "  model.eval()\n",
        "  link_predictor.eval()\n",
        "\n",
        "  node_emb = model(emb,edge_index)\n",
        "\n",
        "  pos_val_edge = split_edge['valid']['edge']\n",
        "  neg_val_edge = split_edge['valid']['edge_neg']\n",
        "\n",
        "  pos_test_edge = split_edge['test']['edge']\n",
        "  neg_test_edge = split_edge['test']['edge_neg']\n",
        "\n",
        "\n",
        "  pos_val_preds = []\n",
        "  for edge_id in DataLoader(range(pos_val_edge.shape[0]),batch_size):\n",
        "    pos_edge = pos_val_edge[edge_id].t()\n",
        "    pos_val_preds += [link_predictor(node_emb[pos_edge[0]],node_emb[pos_edge[1]]).squeeze().cpu()]\n",
        "  pos_val_pred = torch.cat(pos_val_preds,dim=0)\n",
        "\n",
        "  neg_val_preds = []\n",
        "  for edge_id in DataLoader(range(neg_val_edge.shape[0]),batch_size):\n",
        "    neg_edge = neg_val_edge[edge_id].t()\n",
        "    neg_val_preds += [link_predictor(node_emb[neg_edge[0]],node_emb[neg_edge[1]]).squeeze().cpu()]\n",
        "  neg_val_pred = torch.cat(neg_val_preds,dim=0)\n",
        "\n",
        "  pos_test_preds = []\n",
        "  for edge_id in DataLoader(range(pos_test_edge.shape[0]),batch_size):\n",
        "    pos_edge = pos_test_edge[edge_id].t()\n",
        "    pos_test_preds += [link_predictor(node_emb[pos_edge[0]],node_emb[pos_edge[1]]).squeeze().cpu()]\n",
        "  pos_test_pred = torch.cat(pos_test_preds,dim=0)\n",
        "\n",
        "  neg_test_preds = []\n",
        "  for edge_id in DataLoader(range(neg_test_edge.shape[0]),batch_size):\n",
        "    neg_edge = neg_test_edge[edge_id].t()\n",
        "    neg_test_preds += [link_predictor(node_emb[neg_edge[0]],node_emb[neg_edge[1]]).squeeze().cpu()]\n",
        "  neg_test_pred = torch.cat(neg_test_preds,dim=0)\n",
        "\n",
        "  results = {}\n",
        "  for K in [20, 50, 100]:\n",
        "      evaluator.K = K\n",
        "      valid_hits = evaluator.eval({\n",
        "          'y_pred_pos': pos_val_pred,\n",
        "          'y_pred_neg': neg_val_pred,\n",
        "      })[f'hits@{K}']\n",
        "      test_hits = evaluator.eval({\n",
        "          'y_pred_pos': pos_test_pred,\n",
        "          'y_pred_neg': neg_test_pred,\n",
        "      })[f'hits@{K}']\n",
        "\n",
        "      results[f'Hits@{K}'] = (valid_hits, test_hits)\n",
        "  return results"
      ],
      "metadata": {
        "id": "57yskRfiTD_v"
      },
      "execution_count": null,
      "outputs": []
    },
    {
      "cell_type": "code",
      "source": [
        "split_edge = dataset.get_edge_split()\n",
        "pos_train_edge = split_edge['train']['edge'].to(device)\n",
        "\n",
        "graph = dataset[0]\n",
        "edge_index = graph.edge_index.to(device)\n",
        "\n",
        "evaluator = Evaluator(name=\"ogbl-ddi\")\n",
        "\n",
        "emb = torch.nn.Embedding(graph.num_nodes,node_emb_dim).to(device)\n",
        "\n",
        "model = GNNStack(node_emb_dim,hidden_dim,hidden_dim,num_layers,dropout,True).to(device)\n",
        "link_predictor = LinkPredictor(hidden_dim,hidden_dim,1,num_layers+1,dropout).to(device)\n",
        "\n",
        "optimizer = torch.optim.Adam(\n",
        "    list(model.parameters()) + list(link_predictor.parameters()) +  list(emb.parameters()),\n",
        "    lr = lr,\n",
        "    weight_decay = 0\n",
        ")"
      ],
      "metadata": {
        "id": "g_LXHcWUvK2I"
      },
      "execution_count": null,
      "outputs": []
    },
    {
      "cell_type": "code",
      "source": [
        "train_losses = []\n",
        "val_hits = []\n",
        "test_hits = []\n",
        "for epoch in range(num_epochs):\n",
        "  loss = train(model,link_predictor,emb.weight,edge_index,pos_train_edge,batch_size,optimizer)\n",
        "  print(f'Epoch: {epoch + 1}: Loss: {loss}')\n",
        "  train_losses.append(loss)\n",
        "\n",
        "  if(epoch % 10 == 0):\n",
        "    result = test(model,link_predictor,emb.weight,edge_index,split_edge,batch_size,optimizer,evaluator)\n",
        "    val_hits.append(result['Hits@20'][0])\n",
        "    test_hits.append(result['Hits@20'][1])\n",
        "    print(result)"
      ],
      "metadata": {
        "id": "2U-viu4QbOc0",
        "colab": {
          "base_uri": "https://localhost:8080/"
        },
        "outputId": "5ecc4e1e-1639-4a4d-9f31-e467c071c246"
      },
      "execution_count": null,
      "outputs": [
        {
          "output_type": "stream",
          "name": "stderr",
          "text": [
            "/usr/local/lib/python3.10/dist-packages/torch_geometric/deprecation.py:22: UserWarning: 'data.DataLoader' is deprecated, use 'loader.DataLoader' instead\n",
            "  warnings.warn(out)\n"
          ]
        },
        {
          "output_type": "stream",
          "name": "stdout",
          "text": [
            "Epoch: 1: Loss: 1.4084933365092558\n",
            "{'Hits@20': (6.742128564900479e-05, 2.2473761883001596e-05), 'Hits@50': (0.0001423338252590101, 6.742128564900479e-05), 'Hits@100': (0.00041201896785502925, 0.00027717639655701966)}\n",
            "Epoch: 2: Loss: 1.0946708777371574\n",
            "Epoch: 3: Loss: 0.8993871106820948\n",
            "Epoch: 4: Loss: 0.7941716944470125\n",
            "Epoch: 5: Loss: 0.7274510334519779\n",
            "Epoch: 6: Loss: 0.7030039745218614\n",
            "Epoch: 7: Loss: 0.6648043674581191\n",
            "Epoch: 8: Loss: 0.6389236169702867\n",
            "Epoch: 9: Loss: 0.6131329746807322\n",
            "Epoch: 10: Loss: 0.5938777257414425\n",
            "Epoch: 11: Loss: 0.5815202839234296\n",
            "{'Hits@20': (0.23040100682453235, 0.1466787525563904), 'Hits@50': (0.3170148851216205, 0.21792057772550547), 'Hits@100': (0.37854055390331787, 0.3605390706350336)}\n",
            "Epoch: 12: Loss: 0.5674941504702848\n",
            "Epoch: 13: Loss: 0.5581614199806663\n",
            "Epoch: 14: Loss: 0.5490710104213041\n",
            "Epoch: 15: Loss: 0.5387231462142047\n",
            "Epoch: 16: Loss: 0.5322974920272827\n",
            "Epoch: 17: Loss: 0.5248286408536574\n",
            "Epoch: 18: Loss: 0.5203942235778359\n",
            "Epoch: 19: Loss: 0.5153799828361062\n",
            "Epoch: 20: Loss: 0.5052437063525704\n",
            "Epoch: 21: Loss: 0.4999917605343987\n",
            "{'Hits@20': (0.21651222198083736, 0.13881293589733987), 'Hits@50': (0.3178763793271356, 0.25035770737663776), 'Hits@100': (0.41443864288443244, 0.3757313336679427)}\n",
            "Epoch: 22: Loss: 0.4924060193931355\n",
            "Epoch: 23: Loss: 0.49033619726405425\n",
            "Epoch: 24: Loss: 0.48382845345665426\n",
            "Epoch: 25: Loss: 0.47806064872180715\n",
            "Epoch: 26: Loss: 0.4729476465898402\n",
            "Epoch: 27: Loss: 0.46635086746776805\n",
            "Epoch: 28: Loss: 0.46383899800917683\n",
            "Epoch: 29: Loss: 0.45808137690319733\n",
            "Epoch: 30: Loss: 0.4528827789951773\n",
            "Epoch: 31: Loss: 0.45093857891419353\n",
            "{'Hits@20': (0.2623736787300826, 0.18108608199926585), 'Hits@50': (0.380076260965323, 0.323906838765741), 'Hits@100': (0.4624276157586018, 0.408295814636412)}\n",
            "Epoch: 32: Loss: 0.4457259633961846\n",
            "Epoch: 33: Loss: 0.4431036938639248\n",
            "Epoch: 34: Loss: 0.43568286825628844\n",
            "Epoch: 35: Loss: 0.4343795443282408\n",
            "Epoch: 36: Loss: 0.4318091764169581\n",
            "Epoch: 37: Loss: 0.4271692703751957\n",
            "Epoch: 38: Loss: 0.42503467026878805\n",
            "Epoch: 39: Loss: 0.42244962559026833\n",
            "Epoch: 40: Loss: 0.41890957075006824\n",
            "Epoch: 41: Loss: 0.4165906730820151\n",
            "{'Hits@20': (0.24636486901542448, 0.17702582235240358), 'Hits@50': (0.39746346140880523, 0.34137644300279424), 'Hits@100': (0.5256313254275633, 0.4468233337578377)}\n",
            "Epoch: 42: Loss: 0.4144354339908151\n",
            "Epoch: 43: Loss: 0.410138503593557\n",
            "Epoch: 44: Loss: 0.4079361435245065\n",
            "Epoch: 45: Loss: 0.4048433707040899\n",
            "Epoch: 46: Loss: 0.40212443821570454\n",
            "Epoch: 47: Loss: 0.39797376183902516\n",
            "Epoch: 48: Loss: 0.39673135911717133\n",
            "Epoch: 49: Loss: 0.3956657104632434\n",
            "Epoch: 50: Loss: 0.39318817328004274\n",
            "Epoch: 51: Loss: 0.3905605866628535\n",
            "{'Hits@20': (0.309995580160163, 0.19086216841837156), 'Hits@50': (0.4339233944369948, 0.3025867299927335), 'Hits@100': (0.5186494767359108, 0.47702806972859185)}\n",
            "Epoch: 52: Loss: 0.39034923034555774\n",
            "Epoch: 53: Loss: 0.3867638812345617\n",
            "Epoch: 54: Loss: 0.3848880178788129\n",
            "Epoch: 55: Loss: 0.3844034724375781\n",
            "Epoch: 56: Loss: 0.3827440090039197\n",
            "Epoch: 57: Loss: 0.38182146058363076\n",
            "Epoch: 58: Loss: 0.3781259165090673\n",
            "Epoch: 59: Loss: 0.37590910231365876\n",
            "Epoch: 60: Loss: 0.3761773179559147\n",
            "Epoch: 61: Loss: 0.3757019165684195\n",
            "{'Hits@20': (0.2617519046513196, 0.22179355602334275), 'Hits@50': (0.4550187655911723, 0.3370165331974919), 'Hits@100': (0.563402227898928, 0.49044490557274384)}\n",
            "Epoch: 62: Loss: 0.3713872748262742\n",
            "Epoch: 63: Loss: 0.3692743918474983\n",
            "Epoch: 64: Loss: 0.36783859484335957\n",
            "Epoch: 65: Loss: 0.36771923829527464\n",
            "Epoch: 66: Loss: 0.3667273013030781\n",
            "Epoch: 67: Loss: 0.36578816876691933\n",
            "Epoch: 68: Loss: 0.3651292762335609\n",
            "Epoch: 69: Loss: 0.36255242894677553\n",
            "Epoch: 70: Loss: 0.36095719127094045\n",
            "Epoch: 71: Loss: 0.35871919113046985\n",
            "{'Hits@20': (0.25152634299455384, 0.2015222228048753), 'Hits@50': (0.4723984747806935, 0.3495943485980118), 'Hits@100': (0.5879510671291267, 0.5336319846579118)}\n",
            "Epoch: 72: Loss: 0.3585621276322533\n",
            "Epoch: 73: Loss: 0.35608841741786285\n",
            "Epoch: 74: Loss: 0.35776077824480396\n",
            "Epoch: 75: Loss: 0.35532592324649587\n",
            "Epoch: 76: Loss: 0.3550828747889575\n",
            "Epoch: 77: Loss: 0.3547024534029119\n",
            "Epoch: 78: Loss: 0.35263726465842304\n",
            "Epoch: 79: Loss: 0.35087255870594697\n",
            "Epoch: 80: Loss: 0.3508727375198813\n",
            "Epoch: 81: Loss: 0.3512827701428357\n",
            "{'Hits@20': (0.3735289050034085, 0.27364801594138843), 'Hits@50': (0.4885271445587277, 0.36816516716733216), 'Hits@100': (0.5976597322625834, 0.5190764782116879)}\n",
            "Epoch: 82: Loss: 0.35083502180436077\n",
            "Epoch: 83: Loss: 0.34783269026700186\n",
            "Epoch: 84: Loss: 0.3447222569409539\n",
            "Epoch: 85: Loss: 0.3450107258908889\n",
            "Epoch: 86: Loss: 0.34363798183553357\n",
            "Epoch: 87: Loss: 0.3430619485238019\n",
            "Epoch: 88: Loss: 0.3417603601427639\n",
            "Epoch: 89: Loss: 0.3405952225713169\n",
            "Epoch: 90: Loss: 0.3423267988597645\n",
            "Epoch: 91: Loss: 0.3372630792505601\n",
            "{'Hits@20': (0.3876499187198945, 0.19173115387784762), 'Hits@50': (0.5106862737753672, 0.32589951231936715), 'Hits@100': (0.6169422199581988, 0.5046782880986448)}\n",
            "Epoch: 92: Loss: 0.3363412846537197\n",
            "Epoch: 93: Loss: 0.33403664126115684\n",
            "Epoch: 94: Loss: 0.3357120016041924\n",
            "Epoch: 95: Loss: 0.33221545114236717\n",
            "Epoch: 96: Loss: 0.336575960411745\n",
            "Epoch: 97: Loss: 0.33399169409976287\n",
            "Epoch: 98: Loss: 0.3315372011240791\n",
            "Epoch: 99: Loss: 0.3290216887698454\n",
            "Epoch: 100: Loss: 0.32675353218527403\n",
            "Epoch: 101: Loss: 0.32817672105396495\n",
            "{'Hits@20': (0.4338859381671898, 0.2747941777974215), 'Hits@50': (0.5361340634808861, 0.42143547408400694), 'Hits@100': (0.6368539729865382, 0.5963937103431743)}\n",
            "Epoch: 102: Loss: 0.3267831644591163\n",
            "Epoch: 103: Loss: 0.3257794800926657\n",
            "Epoch: 104: Loss: 0.3238031671327703\n",
            "Epoch: 105: Loss: 0.32198555329266715\n",
            "Epoch: 106: Loss: 0.3209188107181998\n",
            "Epoch: 107: Loss: 0.32089029164875255\n",
            "Epoch: 108: Loss: 0.3187883601469152\n",
            "Epoch: 109: Loss: 0.3178129985051997\n",
            "Epoch: 110: Loss: 0.31749966214684877\n",
            "Epoch: 111: Loss: 0.31699420073453116\n",
            "{'Hits@20': (0.39466922368135204, 0.31465514012390533), 'Hits@50': (0.5457378510588887, 0.4764662256815168), 'Hits@100': (0.6409516889032055, 0.5890822464772378)}\n",
            "Epoch: 112: Loss: 0.3153973046471091\n",
            "Epoch: 113: Loss: 0.3153883166172925\n",
            "Epoch: 114: Loss: 0.31411540157654705\n",
            "Epoch: 115: Loss: 0.31350955717703877\n",
            "Epoch: 116: Loss: 0.31177344041712146\n",
            "Epoch: 117: Loss: 0.3117806403075947\n",
            "Epoch: 118: Loss: 0.31120503649992104\n",
            "Epoch: 119: Loss: 0.3097061251892763\n",
            "Epoch: 120: Loss: 0.3112660050392151\n",
            "Epoch: 121: Loss: 0.3116172517047209\n",
            "{'Hits@20': (0.41934541422888777, 0.24783315479178059), 'Hits@50': (0.577253556472818, 0.507195349429541), 'Hits@100': (0.6825581134026024, 0.6281791008996996)}\n",
            "Epoch: 122: Loss: 0.3117545650285833\n",
            "Epoch: 123: Loss: 0.30868325864567475\n",
            "Epoch: 124: Loss: 0.3061821583439322\n",
            "Epoch: 125: Loss: 0.3032705906559439\n",
            "Epoch: 126: Loss: 0.30551203033503366\n",
            "Epoch: 127: Loss: 0.3039855571354137\n",
            "Epoch: 128: Loss: 0.3034891065429239\n",
            "Epoch: 129: Loss: 0.30009938162915845\n",
            "Epoch: 130: Loss: 0.3017716022098766\n",
            "Epoch: 131: Loss: 0.30342067515148835\n",
            "{'Hits@20': (0.4772078598236559, 0.2575792761950423), 'Hits@50': (0.5936893676632532, 0.46125148888672474), 'Hits@100': (0.6809175287851433, 0.633512873719932)}\n",
            "Epoch: 132: Loss: 0.30128637832753796\n",
            "Epoch: 133: Loss: 0.2990450736354379\n",
            "Epoch: 134: Loss: 0.2976445240132949\n",
            "Epoch: 135: Loss: 0.29721232547479515\n",
            "Epoch: 136: Loss: 0.29559238167370067\n",
            "Epoch: 137: Loss: 0.29621262059492226\n",
            "Epoch: 138: Loss: 0.296450220486697\n",
            "Epoch: 139: Loss: 0.2918197915834539\n",
            "Epoch: 140: Loss: 0.29376663705881906\n",
            "Epoch: 141: Loss: 0.2940843859139611\n",
            "{'Hits@20': (0.4891414273835297, 0.3549805601959712), 'Hits@50': (0.6267407801391875, 0.5821453453093514), 'Hits@100': (0.7168755477979459, 0.6988141344979736)}\n",
            "Epoch: 142: Loss: 0.29228518464986014\n",
            "Epoch: 143: Loss: 0.2906785309314728\n",
            "Epoch: 144: Loss: 0.2900778177906485\n",
            "Epoch: 145: Loss: 0.2908455308745889\n",
            "Epoch: 146: Loss: 0.29050398749463696\n",
            "Epoch: 147: Loss: 0.2898947316057542\n",
            "Epoch: 148: Loss: 0.28870732468717236\n",
            "Epoch: 149: Loss: 0.28935831609894247\n",
            "Epoch: 150: Loss: 0.2868681655210607\n",
            "Epoch: 151: Loss: 0.2887110131628373\n",
            "{'Hits@20': (0.4829536516117433, 0.3323644644877106), 'Hits@50': (0.6051959337473499, 0.4876431765913296), 'Hits@100': (0.6781157998037292, 0.6299170718186518)}\n",
            "Epoch: 152: Loss: 0.2856094486573163\n",
            "Epoch: 153: Loss: 0.2860725206487319\n",
            "Epoch: 154: Loss: 0.28479013548177834\n",
            "Epoch: 155: Loss: 0.28472203366896687\n",
            "Epoch: 156: Loss: 0.285160383757423\n",
            "Epoch: 157: Loss: 0.2831394339309019\n",
            "Epoch: 158: Loss: 0.2831557095050812\n",
            "Epoch: 159: Loss: 0.2819530437974369\n",
            "Epoch: 160: Loss: 0.2823352726066814\n",
            "Epoch: 161: Loss: 0.28096822956029105\n",
            "{'Hits@20': (0.4872086838615916, 0.2722246776887983), 'Hits@50': (0.5955996374233082, 0.5084913363647942), 'Hits@100': (0.6870229007633588, 0.6352583358928451)}\n",
            "Epoch: 162: Loss: 0.30659541487693787\n",
            "Epoch: 163: Loss: 0.372827468549504\n",
            "Epoch: 164: Loss: 0.3193129581563613\n",
            "Epoch: 165: Loss: 0.3015017684768228\n",
            "Epoch: 166: Loss: 0.29413043225512786\n",
            "Epoch: 167: Loss: 0.2902989369981429\n",
            "Epoch: 168: Loss: 0.28857457462479086\n",
            "Epoch: 169: Loss: 0.2877214638625874\n",
            "Epoch: 170: Loss: 0.2836163026445052\n",
            "Epoch: 171: Loss: 0.2827111552743351\n",
            "{'Hits@20': (0.450651364531909, 0.38600933410243543), 'Hits@50': (0.6026114511308048, 0.549483478039389), 'Hits@100': (0.7145832240858797, 0.6791870491201523)}\n",
            "Epoch: 172: Loss: 0.2839317707454457\n",
            "Epoch: 173: Loss: 0.28022825192002687\n",
            "Epoch: 174: Loss: 0.27885740294175987\n",
            "Epoch: 175: Loss: 0.28051581803490133\n",
            "Epoch: 176: Loss: 0.2777073137900409\n",
            "Epoch: 177: Loss: 0.2788552922361037\n",
            "Epoch: 178: Loss: 0.2776584309690139\n",
            "Epoch: 179: Loss: 0.276889632729923\n",
            "Epoch: 180: Loss: 0.27665254648994\n",
            "Epoch: 181: Loss: 0.27697796506040234\n",
            "{'Hits@20': (0.5277962978222924, 0.3895077497022226), 'Hits@50': (0.6675381492107963, 0.6013004816876297), 'Hits@100': (0.7403831027275656, 0.7087625197581823)}\n",
            "Epoch: 182: Loss: 0.2771158831961015\n",
            "Epoch: 183: Loss: 0.2746889538624707\n",
            "Epoch: 184: Loss: 0.27419133396709666\n",
            "Epoch: 185: Loss: 0.274700345361934\n",
            "Epoch: 186: Loss: 0.27335814342779274\n",
            "Epoch: 187: Loss: 0.27329734143088846\n",
            "Epoch: 188: Loss: 0.272105369497748\n",
            "Epoch: 189: Loss: 0.2736599112258238\n",
            "Epoch: 190: Loss: 0.2732073401703554\n",
            "Epoch: 191: Loss: 0.27074360672165365\n",
            "{'Hits@20': (0.47926795466293104, 0.28946205305306055), 'Hits@50': (0.6539040670017754, 0.521668452082194), 'Hits@100': (0.746009034452277, 0.6877495523975758)}\n",
            "Epoch: 192: Loss: 0.27288083118550915\n",
            "Epoch: 193: Loss: 0.27002201185506935\n",
            "Epoch: 194: Loss: 0.27188775819890637\n",
            "Epoch: 195: Loss: 0.2707023234928356\n",
            "Epoch: 196: Loss: 0.2698054190944223\n",
            "Epoch: 197: Loss: 0.27088993612457724\n",
            "Epoch: 198: Loss: 0.26950963630395774\n",
            "Epoch: 199: Loss: 0.26914642663563\n",
            "Epoch: 200: Loss: 0.2679782737703884\n",
            "Epoch: 201: Loss: 0.2701257537393009\n",
            "{'Hits@20': (0.5181325802126018, 0.38815183273528153), 'Hits@50': (0.6578894141090277, 0.5647057060881421), 'Hits@100': (0.7514102285581583, 0.6830150798942235)}\n",
            "Epoch: 202: Loss: 0.26693182657746706\n",
            "Epoch: 203: Loss: 0.2669302190051359\n",
            "Epoch: 204: Loss: 0.2679421638741213\n",
            "Epoch: 205: Loss: 0.26797662763034596\n",
            "Epoch: 206: Loss: 0.26817871016614575\n",
            "Epoch: 207: Loss: 0.26642689985387463\n",
            "Epoch: 208: Loss: 0.2666279445676243\n",
            "Epoch: 209: Loss: 0.2662338789771585\n",
            "Epoch: 210: Loss: 0.26760456491919127\n",
            "Epoch: 211: Loss: 0.266854010960635\n",
            "{'Hits@20': (0.4972169991534883, 0.3210901272764048), 'Hits@50': (0.6139457183737986, 0.4660983301994921), 'Hits@100': (0.6867457243668018, 0.5982140850556975)}\n",
            "Epoch: 212: Loss: 0.2666725779280943\n",
            "Epoch: 213: Loss: 0.2673333392423742\n",
            "Epoch: 214: Loss: 0.264968893107246\n",
            "Epoch: 215: Loss: 0.2666201942107257\n",
            "Epoch: 216: Loss: 0.26536378089119406\n",
            "Epoch: 217: Loss: 0.2651853596462923\n",
            "Epoch: 218: Loss: 0.26540887180496664\n",
            "Epoch: 219: Loss: 0.2649044324369991\n",
            "Epoch: 220: Loss: 0.26550932491526885\n",
            "Epoch: 221: Loss: 0.26360078769571643\n",
            "{'Hits@20': (0.5291597060431946, 0.3129546254747582), 'Hits@50': (0.6201185116376631, 0.4260650690319053), 'Hits@100': (0.674887069346538, 0.5821977840870783)}\n",
            "Epoch: 222: Loss: 0.2632797781158896\n",
            "Epoch: 223: Loss: 0.2619359966586618\n",
            "Epoch: 224: Loss: 0.2621164339430192\n",
            "Epoch: 225: Loss: 0.26324764244696675\n",
            "Epoch: 226: Loss: 0.26347899612258463\n",
            "Epoch: 227: Loss: 0.26368263363838196\n",
            "Epoch: 228: Loss: 0.26244932588408976\n",
            "Epoch: 229: Loss: 0.26303497307440815\n",
            "Epoch: 230: Loss: 0.260345995426178\n",
            "Epoch: 231: Loss: 0.2605016652275534\n",
            "{'Hits@20': (0.5082291424761591, 0.2631902254118317), 'Hits@50': (0.6317449377851359, 0.44744510783660074), 'Hits@100': (0.6957127553581194, 0.5854789533219966)}\n",
            "Epoch: 232: Loss: 0.2610068680608974\n",
            "Epoch: 233: Loss: 0.2623022917438956\n",
            "Epoch: 234: Loss: 0.2599780594601351\n",
            "Epoch: 235: Loss: 0.2602638251641217\n",
            "Epoch: 236: Loss: 0.26063504289178285\n",
            "Epoch: 237: Loss: 0.25892367433099184\n",
            "Epoch: 238: Loss: 0.2603602654793683\n",
            "Epoch: 239: Loss: 0.25837507318047914\n",
            "Epoch: 240: Loss: 0.2597216998829561\n",
            "Epoch: 241: Loss: 0.2585278924773721\n",
            "{'Hits@20': (0.5412730636981324, 0.3326790971540726), 'Hits@50': (0.6359475312572571, 0.4690349017522043), 'Hits@100': (0.7015259684318558, 0.5732831918734878)}\n",
            "Epoch: 242: Loss: 0.2588801085948944\n",
            "Epoch: 243: Loss: 0.25838180499918323\n",
            "Epoch: 244: Loss: 0.25776851703138914\n",
            "Epoch: 245: Loss: 0.25907370623420267\n",
            "Epoch: 246: Loss: 0.2572649419307709\n",
            "Epoch: 247: Loss: 0.25626737492925983\n",
            "Epoch: 248: Loss: 0.25817113413530235\n",
            "Epoch: 249: Loss: 0.2560771002488978\n",
            "Epoch: 250: Loss: 0.25667719630634084\n",
            "Epoch: 251: Loss: 0.2569653251591851\n",
            "{'Hits@20': (0.563746825581134, 0.25593120032362215), 'Hits@50': (0.6522410086224333, 0.38826420154469654), 'Hits@100': (0.7064701960461162, 0.5883331210811378)}\n",
            "Epoch: 252: Loss: 0.2597619032158571\n",
            "Epoch: 253: Loss: 0.2556660096434986\n",
            "Epoch: 254: Loss: 0.25650300173198476\n",
            "Epoch: 255: Loss: 0.2557314809630899\n",
            "Epoch: 256: Loss: 0.2573360502719879\n",
            "Epoch: 257: Loss: 0.25660987461314483\n",
            "Epoch: 258: Loss: 0.25574763206874623\n",
            "Epoch: 259: Loss: 0.25572782316628623\n",
            "Epoch: 260: Loss: 0.25544748762074637\n",
            "Epoch: 261: Loss: 0.25551370575147514\n",
            "{'Hits@20': (0.5201702012899939, 0.21583051787038632), 'Hits@50': (0.6094959135209643, 0.30189004337436043), 'Hits@100': (0.6793518567072943, 0.3958528418071901)}\n",
            "Epoch: 262: Loss: 0.2548566907644272\n",
            "Epoch: 263: Loss: 0.25468606983914094\n",
            "Epoch: 264: Loss: 0.25552576429703655\n",
            "Epoch: 265: Loss: 0.25487611223669615\n",
            "Epoch: 266: Loss: 0.25422433018684387\n",
            "Epoch: 267: Loss: 0.25649283037466164\n",
            "Epoch: 268: Loss: 0.255770825287875\n",
            "Epoch: 269: Loss: 0.25547037405126233\n",
            "Epoch: 270: Loss: 0.2530138001722448\n",
            "Epoch: 271: Loss: 0.25336333057459665\n",
            "{'Hits@20': (0.5114503816793893, 0.17518297387799744), 'Hits@50': (0.5823775741821423, 0.2974552210294481), 'Hits@100': (0.6407194600304145, 0.39142551071623877)}\n",
            "Epoch: 272: Loss: 0.2511931333471747\n",
            "Epoch: 273: Loss: 0.2535391134374282\n",
            "Epoch: 274: Loss: 0.25471025179414186\n",
            "Epoch: 275: Loss: 0.2543089722885805\n",
            "Epoch: 276: Loss: 0.2519808770979152\n",
            "Epoch: 277: Loss: 0.25197093188762665\n",
            "Epoch: 278: Loss: 0.2522978730061475\n",
            "Epoch: 279: Loss: 0.25280580976430106\n",
            "Epoch: 280: Loss: 0.25264933442368226\n",
            "Epoch: 281: Loss: 0.2509316819555619\n",
            "{'Hits@20': (0.5387485111132753, 0.20261594588318138), 'Hits@50': (0.6258193559019845, 0.28358890994763614), 'Hits@100': (0.674939508124265, 0.3974110226310782)}\n",
            "Epoch: 282: Loss: 0.25156783268732186\n",
            "Epoch: 283: Loss: 0.2511991954901639\n",
            "Epoch: 284: Loss: 0.25031647261451273\n",
            "Epoch: 285: Loss: 0.25122976040138917\n",
            "Epoch: 286: Loss: 0.25134237724192005\n",
            "Epoch: 287: Loss: 0.2527488303535125\n",
            "Epoch: 288: Loss: 0.25316822616493\n",
            "Epoch: 289: Loss: 0.2516450776773341\n",
            "Epoch: 290: Loss: 0.25311455744154315\n",
            "Epoch: 291: Loss: 0.2515037945088218\n",
            "{'Hits@20': (0.5165369431189086, 0.1450681329547753), 'Hits@50': (0.5823251354044153, 0.21503644495052027), 'Hits@100': (0.63387245391006, 0.2871697293409944)}\n",
            "Epoch: 292: Loss: 0.2513047377852833\n",
            "Epoch: 293: Loss: 0.2494436493691276\n",
            "Epoch: 294: Loss: 0.2513823456623975\n",
            "Epoch: 295: Loss: 0.24821895010331096\n",
            "Epoch: 296: Loss: 0.24957182565156152\n",
            "Epoch: 297: Loss: 0.25017621587304506\n",
            "Epoch: 298: Loss: 0.24874642754302306\n",
            "Epoch: 299: Loss: 0.24881385003819184\n",
            "Epoch: 300: Loss: 0.2491183438721825\n"
          ]
        }
      ]
    },
    {
      "cell_type": "code",
      "source": [
        "plt.title('Link Prediction on OGB-ddi using GraphSAGE GNN')\n",
        "plt.plot(train_losses,label=\"training loss\")\n",
        "plt.plot(np.arange(0,num_epochs,10),val_hits,label=\"Hits@20 on validation\")\n",
        "plt.plot(np.arange(0,num_epochs,10),test_hits,label=\"Hits@20 on test\")\n",
        "plt.xlabel('Epochs')\n",
        "plt.legend()\n",
        "plt.show()"
      ],
      "metadata": {
        "colab": {
          "base_uri": "https://localhost:8080/",
          "height": 472
        },
        "id": "OnYuRqUw_1J4",
        "outputId": "0528ffce-95c0-4524-ca90-cd127cc6b029"
      },
      "execution_count": null,
      "outputs": [
        {
          "output_type": "display_data",
          "data": {
            "text/plain": [
              "<Figure size 640x480 with 1 Axes>"
            ],
            "image/png": "[encoded data removed]"
          },
          "metadata": {}
        }
      ]
    },
    {
      "cell_type": "code",
      "source": [
        "import pickle"
      ],
      "metadata": {
        "id": "TVsb-vrLRGx6"
      },
      "execution_count": null,
      "outputs": []
    },
    {
      "cell_type": "code",
      "source": [
        "torch.save(model,'model.pt')"
      ],
      "metadata": {
        "id": "pIAUEPZFRPqe"
      },
      "execution_count": null,
      "outputs": []
    },
    {
      "cell_type": "code",
      "source": [
        "torch.save(link_predictor,'link_predictor.pt')"
      ],
      "metadata": {
        "id": "scpw0EzERYqE"
      },
      "execution_count": null,
      "outputs": []
    },
    {
      "cell_type": "code",
      "source": [],
      "metadata": {
        "id": "1Hul30cXRkMv"
      },
      "execution_count": null,
      "outputs": []
    }
  ]
}